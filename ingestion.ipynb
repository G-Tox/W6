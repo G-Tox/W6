{
 "cells": [
  {
   "cell_type": "markdown",
   "id": "cabd9eba",
   "metadata": {},
   "source": [
    "# Reading File"
   ]
  },
  {
   "cell_type": "markdown",
   "id": "e144ef51",
   "metadata": {},
   "source": [
    "### With Pandas"
   ]
  },
  {
   "cell_type": "code",
   "execution_count": 3,
   "id": "therapeutic-shoot",
   "metadata": {},
   "outputs": [],
   "source": [
    "import pandas as pd\n",
    "import time"
   ]
  },
  {
   "cell_type": "code",
   "execution_count": 3,
   "id": "strong-spending",
   "metadata": {},
   "outputs": [
    {
     "name": "stdout",
     "output_type": "stream",
     "text": [
      "68.88677859306335\n"
     ]
    }
   ],
   "source": [
    "starting_time = time.time()\n",
    "df_pandas = pd.read_csv(\"data_fdu.csv\")\n",
    "elapsed_time = time.time() - starting_time\n",
    "print(elapsed_time)"
   ]
  },
  {
   "cell_type": "markdown",
   "id": "8a7a2ed4",
   "metadata": {},
   "source": [
    "#### The time of reading was 68.89 seconds"
   ]
  },
  {
   "cell_type": "code",
   "execution_count": null,
   "id": "64017850",
   "metadata": {},
   "outputs": [],
   "source": []
  },
  {
   "cell_type": "markdown",
   "id": "c2714e73",
   "metadata": {},
   "source": [
    "### With Dask"
   ]
  },
  {
   "cell_type": "code",
   "execution_count": 4,
   "id": "rubber-japanese",
   "metadata": {},
   "outputs": [],
   "source": [
    "import dask.dataframe as dd\n",
    "import time"
   ]
  },
  {
   "cell_type": "code",
   "execution_count": 5,
   "id": "7ebfeca2",
   "metadata": {},
   "outputs": [
    {
     "name": "stdout",
     "output_type": "stream",
     "text": [
      "1.7978005409240723\n"
     ]
    }
   ],
   "source": [
    "starting_time = time.time()\n",
    "df_dask = dd.read_csv('data_fdu.csv')\n",
    "elapsed_time = time.time() - starting_time\n",
    "print(elapsed_time)"
   ]
  },
  {
   "cell_type": "markdown",
   "id": "13f4306d",
   "metadata": {},
   "source": [
    "#### The time of reading was 1.798 seconds"
   ]
  },
  {
   "cell_type": "code",
   "execution_count": null,
   "id": "f1db5080",
   "metadata": {},
   "outputs": [],
   "source": []
  },
  {
   "cell_type": "markdown",
   "id": "d6248fea",
   "metadata": {},
   "source": [
    "### With Modin"
   ]
  },
  {
   "cell_type": "code",
   "execution_count": 7,
   "id": "c71632b8",
   "metadata": {},
   "outputs": [],
   "source": [
    "import modin.pandas as md\n",
    "import time"
   ]
  },
  {
   "cell_type": "code",
   "execution_count": 8,
   "id": "f071bfc4",
   "metadata": {},
   "outputs": [
    {
     "name": "stdout",
     "output_type": "stream",
     "text": [
      "332.0885753631592\n"
     ]
    }
   ],
   "source": [
    "starting_time = time.time()\n",
    "df_modin = md.read_csv('data_fdu.csv')\n",
    "elapsed_time = time.time() - starting_time\n",
    "print(elapsed_time)"
   ]
  },
  {
   "cell_type": "markdown",
   "id": "c4de51da",
   "metadata": {},
   "source": [
    "#### The time of reading was 332.089 seconds"
   ]
  },
  {
   "cell_type": "code",
   "execution_count": null,
   "id": "002d47eb",
   "metadata": {},
   "outputs": [],
   "source": []
  },
  {
   "cell_type": "markdown",
   "id": "c8f73752",
   "metadata": {},
   "source": [
    "### With PySpark"
   ]
  },
  {
   "cell_type": "code",
   "execution_count": 4,
   "id": "e24fb4d0",
   "metadata": {},
   "outputs": [],
   "source": [
    "import findspark\n",
    "findspark.init()\n",
    "from pyspark.sql import SparkSession\n",
    "spark=SparkSession.builder.appName(\"Data_Wrangling\").getOrCreate()\n",
    "import time"
   ]
  },
  {
   "cell_type": "code",
   "execution_count": 5,
   "id": "de57e6b7",
   "metadata": {},
   "outputs": [],
   "source": [
    "file = \"data_fdu.csv\"\n",
    "file_type = \"csv\"\n",
    "infer_schema = \"True\"\n",
    "first_row_is_header = \"True\"\n",
    "delimiter = \",\""
   ]
  },
  {
   "cell_type": "code",
   "execution_count": 6,
   "id": "e1cdd4fa",
   "metadata": {},
   "outputs": [
    {
     "name": "stdout",
     "output_type": "stream",
     "text": [
      "81.09281897544861\n"
     ]
    }
   ],
   "source": [
    "starting_time = time.time()\n",
    "data = spark.read.format(file_type) \\\n",
    ".option(\"inferSchema\",infer_schema) \\\n",
    ".option(\"header\",first_row_is_header) \\\n",
    ".option(\"sep\",delimiter) \\\n",
    ".load(file)\n",
    "elapsed_time = time.time() - starting_time\n",
    "print(elapsed_time)"
   ]
  },
  {
   "cell_type": "markdown",
   "id": "db61816c",
   "metadata": {},
   "source": [
    "#### The time of reading was 81.093 seconds"
   ]
  },
  {
   "cell_type": "code",
   "execution_count": null,
   "id": "c58113c2",
   "metadata": {},
   "outputs": [],
   "source": []
  },
  {
   "cell_type": "markdown",
   "id": "2f890858",
   "metadata": {},
   "source": [
    "# Data Ingestion"
   ]
  },
  {
   "cell_type": "markdown",
   "id": "d58bec9f",
   "metadata": {},
   "source": [
    "### YAML File"
   ]
  },
  {
   "cell_type": "code",
   "execution_count": 9,
   "id": "distant-prefix",
   "metadata": {},
   "outputs": [
    {
     "name": "stdout",
     "output_type": "stream",
     "text": [
      "Overwriting file.yaml\n"
     ]
    }
   ],
   "source": [
    "%%writefile file.yaml\n",
    "file_type: csv\n",
    "file_name: data_fdu\n",
    "file_save: data_save\n",
    "inbound_delimiter: \",\"\n",
    "outbound_delimiter: \"|\"\n",
    "skip_leading_rows: 1\n",
    "columns:\n",
    "    - post_time\n",
    "    - post_id\n",
    "    - target\n",
    "    - content\n",
    "    - post_url\n",
    "    - thread_title\n",
    "    - thread_page_url\n",
    "    - board_cate\n",
    "    - board_name_cn\n",
    "    - board_name_en\n",
    "    - board_url\n",
    "    - thread_uid"
   ]
  },
  {
   "cell_type": "markdown",
   "id": "694167c8",
   "metadata": {},
   "source": [
    "### Ingestion File"
   ]
  },
  {
   "cell_type": "code",
   "execution_count": 7,
   "id": "5fa9fd1a",
   "metadata": {},
   "outputs": [
    {
     "name": "stdout",
     "output_type": "stream",
     "text": [
      "Overwriting testutility.py\n"
     ]
    }
   ],
   "source": [
    "%%writefile testutility.py\n",
    "import logging\n",
    "import os\n",
    "import subprocess\n",
    "import yaml\n",
    "import pandas as pd\n",
    "import datetime\n",
    "import gc\n",
    "import re\n",
    "\n",
    "def read_config_file(filepath):\n",
    "    with open(filepath,'r') as stream:\n",
    "        try:\n",
    "            return yaml.safe_load(stream)\n",
    "        except yaml.YAMLError as exc:\n",
    "            logging.error(exc)\n",
    "            \n",
    "def replacer(string, char):\n",
    "    pattern = char + '{2,}'\n",
    "    string = re.sub(pattern, char, string)\n",
    "    return string\n",
    "\n",
    "def col_verification(df,table_config):\n",
    "    df.columns = df.columns.str.lower()\n",
    "    df.columns = df.columns.str.replace('[^\\w]','_',regex=True)\n",
    "    df.columns = list(map(lambda x: x.strip('_'),list(df.columns)))\n",
    "    df.columns = list(map(lambda x: replacer(x,'_'),list(df.columns)))\n",
    "    expected_col = list(map(lambda x: x.lower(),table_config['columns']))\n",
    "    expected_col.sort()\n",
    "    df.columns = list(map(lambda x: x.lower(), list(df.columns)))\n",
    "    df = df.reindex(sorted(df.columns),axis=1)\n",
    "    if len(df.columns) == len(expected_col) and list(expected_col) == list(df.columns):\n",
    "        print(\"column name and column length validation passed\")\n",
    "        return 1\n",
    "    else:\n",
    "        print(\"column name and column length validation failed\")\n",
    "        mismatched_columns_file = list(set(df.columns).difference(expected_col))\n",
    "        print(\"following file columns are not in the YAML file\", mismatched_columns_file)\n",
    "        missing_YAML_file = list(set(expected_col).difference(df.columns))\n",
    "        print(\"Following YAML columns are not in the file upload\", missing_YAML_file)\n",
    "        logging.info(f'df columns: {df.columns}')\n",
    "        logging.info(f'expected columns: {expected_col}')\n",
    "        return 0\n",
    "    \n",
    "def save_df(df,name,sep):\n",
    "    df.to_csv(name + \".csv.gz\", \n",
    "           index=False, \n",
    "           compression=\"gzip\", sep=sep)\n",
    "    \n",
    "def summary(df):\n",
    "    print(\"Number of rows: \" + str(df.shape[0]))\n",
    "    print(\"Number of columns: \" + str(df.shape[1]))"
   ]
  },
  {
   "cell_type": "markdown",
   "id": "1f7ea371",
   "metadata": {},
   "source": [
    "### Files Import"
   ]
  },
  {
   "cell_type": "code",
   "execution_count": 1,
   "id": "480b5734",
   "metadata": {},
   "outputs": [],
   "source": [
    "import pandas as pd\n",
    "import testutility as util\n",
    "config_data = util.read_config_file(\"file.yaml\")"
   ]
  },
  {
   "cell_type": "code",
   "execution_count": 2,
   "id": "f38c2d6f",
   "metadata": {},
   "outputs": [
    {
     "data": {
      "text/plain": [
       "{'file_type': 'csv',\n",
       " 'file_name': 'data_fdu',\n",
       " 'file_save': 'data_save',\n",
       " 'inbound_delimiter': ',',\n",
       " 'outbound_delimiter': '|',\n",
       " 'skip_leading_rows': 1,\n",
       " 'columns': ['post_time',\n",
       "  'post_id',\n",
       "  'target',\n",
       "  'content',\n",
       "  'post_url',\n",
       "  'thread_title',\n",
       "  'thread_page_url',\n",
       "  'board_cate',\n",
       "  'board_name_cn',\n",
       "  'board_name_en',\n",
       "  'board_url',\n",
       "  'thread_uid']}"
      ]
     },
     "execution_count": 2,
     "metadata": {},
     "output_type": "execute_result"
    }
   ],
   "source": [
    "config_data"
   ]
  },
  {
   "cell_type": "markdown",
   "id": "b8cb7d7a",
   "metadata": {},
   "source": [
    "### Read with YAML file"
   ]
  },
  {
   "cell_type": "code",
   "execution_count": 3,
   "id": "d04e95d0",
   "metadata": {},
   "outputs": [],
   "source": [
    "file_type = config_data['file_type']\n",
    "source_file = \"./\" + config_data['file_name'] + f'.{file_type}'\n",
    "df = pd.read_csv(source_file,config_data['inbound_delimiter'])"
   ]
  },
  {
   "cell_type": "markdown",
   "id": "3c40b54f",
   "metadata": {},
   "source": [
    "### Verification of dataframe header with YAML file"
   ]
  },
  {
   "cell_type": "code",
   "execution_count": 4,
   "id": "a9c48475",
   "metadata": {},
   "outputs": [
    {
     "name": "stdout",
     "output_type": "stream",
     "text": [
      "column name and column length validation passed\n"
     ]
    },
    {
     "data": {
      "text/plain": [
       "1"
      ]
     },
     "execution_count": 4,
     "metadata": {},
     "output_type": "execute_result"
    }
   ],
   "source": [
    "util.col_verification(df,config_data)"
   ]
  },
  {
   "cell_type": "markdown",
   "id": "d588c5ff",
   "metadata": {},
   "source": [
    "### Summary of Dataframe"
   ]
  },
  {
   "cell_type": "code",
   "execution_count": 5,
   "id": "fae191ea",
   "metadata": {},
   "outputs": [
    {
     "name": "stdout",
     "output_type": "stream",
     "text": [
      "Number of rows: 3290488\n",
      "Number of columns: 12\n"
     ]
    }
   ],
   "source": [
    "util.summary(df)"
   ]
  },
  {
   "cell_type": "markdown",
   "id": "c555ee5b",
   "metadata": {},
   "source": [
    "### Save dataframe with \"|\" separator"
   ]
  },
  {
   "cell_type": "code",
   "execution_count": 6,
   "id": "7672add2",
   "metadata": {},
   "outputs": [],
   "source": [
    "util.save_df(df,config_data['file_save'],config_data['outbound_delimiter'])"
   ]
  },
  {
   "cell_type": "code",
   "execution_count": null,
   "id": "e5f17311",
   "metadata": {},
   "outputs": [],
   "source": []
  }
 ],
 "metadata": {
  "kernelspec": {
   "display_name": "Python 3",
   "language": "python",
   "name": "python3"
  },
  "language_info": {
   "codemirror_mode": {
    "name": "ipython",
    "version": 3
   },
   "file_extension": ".py",
   "mimetype": "text/x-python",
   "name": "python",
   "nbconvert_exporter": "python",
   "pygments_lexer": "ipython3",
   "version": "3.6.10"
  }
 },
 "nbformat": 4,
 "nbformat_minor": 5
}
